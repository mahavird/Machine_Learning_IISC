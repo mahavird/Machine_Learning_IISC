{
 "cells": [
  {
   "cell_type": "markdown",
   "metadata": {},
   "source": [
    "# Logistic Regression on  MNIST\n"
   ]
  },
  {
   "cell_type": "code",
   "execution_count": 1,
   "metadata": {},
   "outputs": [
    {
     "name": "stderr",
     "output_type": "stream",
     "text": [
      "Using TensorFlow backend.\n"
     ]
    }
   ],
   "source": [
    "import six.moves.cPickle as pickle\n",
    "import numpy as np\n",
    "from keras.models import Sequential\n",
    "from keras.layers import Dense, Activation\n",
    "from keras.datasets import mnist\n",
    "from keras.utils import np_utils\n",
    "from keras import optimizers"
   ]
  },
  {
   "cell_type": "code",
   "execution_count": 2,
   "metadata": {},
   "outputs": [],
   "source": [
    "def build_logistic_model(input_dim, output_dim):\n",
    "    model = Sequential()\n",
    "    model.add(Dense(output_dim, input_dim=input_dim, activation='softmax'))\n",
    "    return model"
   ]
  },
  {
   "cell_type": "code",
   "execution_count": 3,
   "metadata": {},
   "outputs": [],
   "source": [
    "batch_size = 128\n",
    "nb_classes = 10\n",
    "nb_epoch = 15\n",
    "input_dim = 784"
   ]
  },
  {
   "cell_type": "code",
   "execution_count": 4,
   "metadata": {},
   "outputs": [
    {
     "name": "stdout",
     "output_type": "stream",
     "text": [
      "(60000, 28, 28)\n",
      "(60000,)\n"
     ]
    }
   ],
   "source": [
    "# the data, shuffled and split between train and test sets\n",
    "(X_train, y_train), (X_test, y_test) = mnist.load_data()\n",
    "print X_train.shape\n",
    "print y_train.shape"
   ]
  },
  {
   "cell_type": "code",
   "execution_count": 5,
   "metadata": {},
   "outputs": [],
   "source": [
    "#converting each image into a single row vector\n",
    "X_train = X_train.reshape(60000, input_dim)\n",
    "X_test = X_test.reshape(10000, input_dim)\n",
    "X_train = X_train.astype('float32')\n",
    "X_test = X_test.astype('float32')\n",
    "X_train /= 255\n",
    "X_test /= 255"
   ]
  },
  {
   "cell_type": "code",
   "execution_count": 6,
   "metadata": {},
   "outputs": [
    {
     "name": "stdout",
     "output_type": "stream",
     "text": [
      "(60000, 794)\n",
      "(60000, 784)\n",
      "(60000, 10)\n"
     ]
    }
   ],
   "source": [
    "# convert class vectors to binary class matrices\n",
    "Y_train = np_utils.to_categorical(y_train, nb_classes)\n",
    "\n",
    "\n",
    "#we stack the the images and there corresponding labels together.\n",
    "\n",
    "X_total_train=np.hstack((X_train,Y_train))\n",
    "print X_total_train.shape\n",
    "\n",
    "# We make sure that the data is shuffled properly so that we have a uniformly distributed training and validation set.\n",
    "np.random.shuffle(X_total_train)\n",
    "\n",
    "#Again split the data into image vectors and their corresponding labels\n",
    "X_train = X_total_train [:60000,:784]\n",
    "Y_train = X_total_train [:60000,784:794]\n",
    "print X_train.shape\n",
    "print Y_train.shape"
   ]
  },
  {
   "cell_type": "code",
   "execution_count": 7,
   "metadata": {},
   "outputs": [
    {
     "name": "stdout",
     "output_type": "stream",
     "text": [
      "(50000, 784)\n",
      "(10000, 784)\n",
      "(50000, 'train samples')\n",
      "(10000, 'validation samples')\n"
     ]
    }
   ],
   "source": [
    "#Dividing the training set (X_train) of 60,000 images into a training set(X_train_t) 0f 50,000 images\n",
    "#and a validation set(X_train_v) of 10,000\n",
    "X_train_t = X_train[: 50000,:]\n",
    "X_train_v = X_train[ 50000:60000,:]\n",
    "print X_train_t.shape\n",
    "print X_train_v.shape\n",
    "print(X_train_t.shape[0], 'train samples')\n",
    "print(X_train_v.shape[0], 'validation samples')"
   ]
  },
  {
   "cell_type": "code",
   "execution_count": 8,
   "metadata": {},
   "outputs": [
    {
     "name": "stdout",
     "output_type": "stream",
     "text": [
      "(50000, 10)\n",
      "(10000, 10)\n",
      "(10000, 'Test samples')\n"
     ]
    }
   ],
   "source": [
    "# The corresponding labels are also diivded into training and validation set\n",
    "Y_train_t = Y_train[: 50000,:]\n",
    "Y_train_v = Y_train[50000:60000,:]\n",
    "print Y_train_t.shape\n",
    "print Y_train_v.shape\n",
    "\n",
    "# convert class vectors to binary class matrices for test labels\n",
    "Y_test = np_utils.to_categorical(y_test, nb_classes)\n",
    "print(Y_test.shape[0], 'Test samples')"
   ]
  },
  {
   "cell_type": "code",
   "execution_count": 9,
   "metadata": {},
   "outputs": [
    {
     "name": "stdout",
     "output_type": "stream",
     "text": [
      "_________________________________________________________________\n",
      "Layer (type)                 Output Shape              Param #   \n",
      "=================================================================\n",
      "dense_1 (Dense)              (None, 10)                7850      \n",
      "=================================================================\n",
      "Total params: 7,850\n",
      "Trainable params: 7,850\n",
      "Non-trainable params: 0\n",
      "_________________________________________________________________\n"
     ]
    }
   ],
   "source": [
    "model = build_logistic_model(input_dim, nb_classes)\n",
    "\n",
    "model.summary()"
   ]
  },
  {
   "cell_type": "code",
   "execution_count": 10,
   "metadata": {},
   "outputs": [
    {
     "name": "stderr",
     "output_type": "stream",
     "text": [
      "/usr/local/lib/python2.7/dist-packages/keras/models.py:942: UserWarning: The `nb_epoch` argument in `fit` has been renamed `epochs`.\n",
      "  warnings.warn('The `nb_epoch` argument in `fit` '\n"
     ]
    },
    {
     "name": "stdout",
     "output_type": "stream",
     "text": [
      "Train on 50000 samples, validate on 10000 samples\n",
      "Epoch 1/15\n",
      "50000/50000 [==============================] - 1s 21us/step - loss: 1.3573 - acc: 0.6646 - val_loss: 0.9059 - val_acc: 0.8056\n",
      "Epoch 2/15\n",
      "50000/50000 [==============================] - 1s 16us/step - loss: 0.7720 - acc: 0.8307 - val_loss: 0.6780 - val_acc: 0.8462\n",
      "Epoch 3/15\n",
      "50000/50000 [==============================] - 1s 16us/step - loss: 0.6263 - acc: 0.8544 - val_loss: 0.5856 - val_acc: 0.8601\n",
      "Epoch 4/15\n",
      "50000/50000 [==============================] - 1s 16us/step - loss: 0.5564 - acc: 0.8647 - val_loss: 0.5340 - val_acc: 0.8687\n",
      "Epoch 5/15\n",
      "50000/50000 [==============================] - 1s 19us/step - loss: 0.5141 - acc: 0.8711 - val_loss: 0.5002 - val_acc: 0.8742\n",
      "Epoch 6/15\n",
      "50000/50000 [==============================] - 1s 17us/step - loss: 0.4850 - acc: 0.8762 - val_loss: 0.4761 - val_acc: 0.8767\n",
      "Epoch 7/15\n",
      "50000/50000 [==============================] - 1s 16us/step - loss: 0.4636 - acc: 0.8798 - val_loss: 0.4578 - val_acc: 0.8806\n",
      "Epoch 8/15\n",
      "50000/50000 [==============================] - 1s 17us/step - loss: 0.4470 - acc: 0.8829 - val_loss: 0.4432 - val_acc: 0.8840\n",
      "Epoch 9/15\n",
      "50000/50000 [==============================] - 1s 17us/step - loss: 0.4336 - acc: 0.8855 - val_loss: 0.4315 - val_acc: 0.8856\n",
      "Epoch 10/15\n",
      "50000/50000 [==============================] - 1s 16us/step - loss: 0.4225 - acc: 0.8875 - val_loss: 0.4213 - val_acc: 0.8877\n",
      "Epoch 11/15\n",
      "50000/50000 [==============================] - 1s 16us/step - loss: 0.4131 - acc: 0.8893 - val_loss: 0.4131 - val_acc: 0.8881\n",
      "Epoch 12/15\n",
      "50000/50000 [==============================] - 1s 16us/step - loss: 0.4051 - acc: 0.8917 - val_loss: 0.4056 - val_acc: 0.8895\n",
      "Epoch 13/15\n",
      "50000/50000 [==============================] - 1s 16us/step - loss: 0.3980 - acc: 0.8928 - val_loss: 0.3992 - val_acc: 0.8909\n",
      "Epoch 14/15\n",
      "50000/50000 [==============================] - 1s 17us/step - loss: 0.3918 - acc: 0.8941 - val_loss: 0.3936 - val_acc: 0.8932\n",
      "Epoch 15/15\n",
      "50000/50000 [==============================] - 1s 16us/step - loss: 0.3863 - acc: 0.8954 - val_loss: 0.3884 - val_acc: 0.8948\n"
     ]
    }
   ],
   "source": [
    "# compile the model\n",
    "#setting the learning rate to be 0.01\n",
    "sgd = optimizers.SGD(lr=0.01, decay=1e-6, momentum=0.9, nesterov=True)\n",
    "model.compile(optimizer='sgd', loss='categorical_crossentropy', metrics=['accuracy'])\n",
    "\n",
    "#using training and validation data for 15 epochs\n",
    "history = model.fit(X_train_t, Y_train_t,\n",
    "                    batch_size=batch_size, nb_epoch=nb_epoch,shuffle=True,\n",
    "                    verbose=1, validation_data=(X_train_v, Y_train_v))\n",
    "\n",
    "#evaluating the model on test set\n",
    "score = model.evaluate(X_test, Y_test, verbose=0)"
   ]
  },
  {
   "cell_type": "code",
   "execution_count": 11,
   "metadata": {},
   "outputs": [
    {
     "name": "stdout",
     "output_type": "stream",
     "text": [
      "('Test score:', 0.3645026022195816)\n",
      "('Test accuracy:', 0.9024)\n"
     ]
    }
   ],
   "source": [
    "print('Test score:', score[0])\n",
    "print('Test accuracy:', score[1])"
   ]
  },
  {
   "cell_type": "markdown",
   "metadata": {},
   "source": [
    "# comparing the validation and test accuracies for different set of Learning rate and Batch Size\n",
    "\n",
    "| Learning Rate | Val Acc   | Test Acc   |\n",
    "|---------------|-----------|------------|\n",
    "|0.001          |  0.9144   |   0.9197   |\n",
    "|0.01           |  0.9141   |   0.9210   |\n",
    "|0.05           |  1.9153   |   0.9216   |\n",
    "|0.1            |  0.9170   |   0.9214   |\n",
    "\n",
    "| Batch Size    | Val Acc   | Test Acc   |\n",
    "|---------------|-----------|------------|\n",
    "|    1          |  0.9139   |   0.9207   |\n",
    "|    32         |  0.9206   |   0.9261   |\n",
    "|    128        |  0.9208   |   0.926    |\n",
    "|    1024       |  0.9208   |   0.926    |\n"
   ]
  },
  {
   "cell_type": "code",
   "execution_count": null,
   "metadata": {},
   "outputs": [],
   "source": []
  }
 ],
 "metadata": {
  "kernelspec": {
   "display_name": "Python 2",
   "language": "python",
   "name": "python2"
  },
  "language_info": {
   "codemirror_mode": {
    "name": "ipython",
    "version": 2
   },
   "file_extension": ".py",
   "mimetype": "text/x-python",
   "name": "python",
   "nbconvert_exporter": "python",
   "pygments_lexer": "ipython2",
   "version": "2.7.12"
  }
 },
 "nbformat": 4,
 "nbformat_minor": 2
}
